{
  "nbformat": 4,
  "nbformat_minor": 0,
  "metadata": {
    "colab": {
      "private_outputs": true,
      "provenance": [],
      "include_colab_link": true
    },
    "kernelspec": {
      "name": "python3",
      "display_name": "Python 3"
    },
    "language_info": {
      "name": "python"
    }
  },
  "cells": [
    {
      "cell_type": "markdown",
      "metadata": {
        "id": "view-in-github",
        "colab_type": "text"
      },
      "source": [
        "<a href=\"https://colab.research.google.com/github/hannah416/G3-finalproject/blob/main/FPG03.ipynb\" target=\"_parent\"><img src=\"https://colab.research.google.com/assets/colab-badge.svg\" alt=\"Open In Colab\"/></a>"
      ]
    },
    {
      "cell_type": "markdown",
      "source": [
        "# 🌱**Group 3 Final Project (6/18)**\n",
        "\n",
        "+ Reading material: 💾 [text link](https://raw.githubusercontent.com/MK316/Spring2024/main/DLTESOL/project/story03.txt)\n",
        "\n",
        "## Learning objectives:\n",
        "+ objective 1:\n",
        "+ objective 1:\n",
        "+ objective 1:"
      ],
      "metadata": {
        "id": "3EGZDlOvWSAf"
      }
    },
    {
      "cell_type": "code",
      "source": [
        "!pip install pydub\n",
        "!pip install ffmpeg-python\n"
      ],
      "metadata": {
        "id": "NvjFkifm0RrC"
      },
      "execution_count": null,
      "outputs": []
    },
    {
      "cell_type": "code",
      "source": [
        "from IPython.display import display, HTML, Javascript\n",
        "\n",
        "def record_audio():\n",
        "    display(HTML(\"\"\"\n",
        "    <script>\n",
        "        var my_recorder;\n",
        "        var audioChunks = [];\n",
        "\n",
        "        function startRecording() {\n",
        "            navigator.mediaDevices.getUserMedia({ audio: true }).then(stream => {\n",
        "                my_recorder = new MediaRecorder(stream);\n",
        "                my_recorder.ondataavailable = function(event) {\n",
        "                    audioChunks.push(event.data);\n",
        "                };\n",
        "                my_recorder.start();\n",
        "            });\n",
        "        }\n",
        "\n",
        "        function stopRecording() {\n",
        "            my_recorder.stop();\n",
        "            my_recorder.onstop = function() {\n",
        "                var audioBlob = new Blob(audioChunks, { type: 'audio/wav' });\n",
        "                var audioUrl = URL.createObjectURL(audioBlob);\n",
        "                var audio = new Audio(audioUrl);\n",
        "                var anchor = document.createElement(\"a\");\n",
        "                anchor.href = audioUrl;\n",
        "                anchor.download = \"recorded_audio.wav\";\n",
        "                anchor.click();\n",
        "                audio.play();\n",
        "            };\n",
        "        }\n",
        "    </script>\n",
        "    <button onclick=\"startRecording()\">Start Recording</button>\n",
        "    <button onclick=\"stopRecording()\">Stop Recording</button>\n",
        "    \"\"\"))\n",
        "\n",
        "record_audio()\n"
      ],
      "metadata": {
        "id": "WQsc9VcO6vh9"
      },
      "execution_count": null,
      "outputs": []
    }
  ]
}