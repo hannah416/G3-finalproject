{
  "nbformat": 4,
  "nbformat_minor": 0,
  "metadata": {
    "colab": {
      "provenance": [],
      "authorship_tag": "ABX9TyOw65kiuyrCKdWAYlhboPBR",
      "include_colab_link": true
    },
    "kernelspec": {
      "name": "python3",
      "display_name": "Python 3"
    },
    "language_info": {
      "name": "python"
    }
  },
  "cells": [
    {
      "cell_type": "markdown",
      "metadata": {
        "id": "view-in-github",
        "colab_type": "text"
      },
      "source": [
        "<a href=\"https://colab.research.google.com/github/hannah416/G3-finalproject/blob/main/during_comprehension_test.ipynb\" target=\"_parent\"><img src=\"https://colab.research.google.com/assets/colab-badge.svg\" alt=\"Open In Colab\"/></a>"
      ]
    },
    {
      "cell_type": "code",
      "execution_count": 1,
      "metadata": {
        "id": "_-vdReGUIw-N"
      },
      "outputs": [],
      "source": [
        "%%capture\n",
        "!pip install gradio"
      ]
    },
    {
      "cell_type": "code",
      "source": [
        "\n",
        "import gradio as gr\n",
        "\n",
        "# Define the comprehension questions\n",
        "questions_mc = [\n",
        "    {\"question\": \"1. What was the main problem with Tom's family garden at the beginning of the story?\", \"options\": [\"a) It was too shady\", \"b) The soil was tough and dry\", \"c) It was overgrown with weeds\", \"d) The garden was too small\"], \"answer\": \"b) The soil was tough and dry\"},\n",
        "    {\"question\": \"2. What caught Tom's attention in the peddler's cart?\", \"options\": [\"a) Pots and pans\", \"b) Cloths and toys\", \"c) Small packets of seeds tied with colorful ribbons\", \"d) Shiny jewelry\"], \"answer\": \"c) Small packets of seeds tied with colorful ribbons\"},\n",
        "    {\"question\": \"3. How did the peddler describe the seeds to Tom?\", \"options\": [\"a) Ordinary seeds\", \"b) Expensive seeds\", \"c) Magic seeds\", \"d) Rare seeds\"], \"answer\": \"c) Magic seeds\"},\n",
        "    {\"question\": \"4. What happened to Tom's garden after he planted the magic seeds?\", \"options\": [\"a) The plants didn't grow at all\", \"b) The plants grew slowly\", \"c) The plants grew quickly and vibrantly\", \"d) The plants wilted and died\"], \"answer\": \"c) The plants grew quickly and vibrantly\"},\n",
        "    {\"question\": \"5. How did the village community react to Tom's garden?\", \"options\": [\"a) They ignored it\", \"b) They marveled at it and shared the seeds\", \"c) They tried to buy the garden\", \"d) They complained about it\"], \"answer\": \"b) They marveled at it and shared the seeds\"}\n",
        "]\n",
        "\n",
        "questions_tf = [\n",
        "    {\"question\": \"1. Tom loved exploring the outdoors and helping his parents in their garden.\", \"options\": [\"True\", \"False\"], \"answer\": \"True\"},\n",
        "    {\"question\": \"2. The peddler sold Tom an old toy.\", \"options\": [\"True\", \"False\"], \"answer\": \"False\"},\n",
        "    {\"question\": \"3. The seeds took a very long time to grow.\", \"options\": [\"True\", \"False\"], \"answer\": \"False\"},\n",
        "    {\"question\": \"4. Tom kept all the magic seeds for himself.\", \"options\": [\"True\", \"False\"], \"answer\": \"False\"},\n",
        "    {\"question\": \"5. The story highlights the importance of sharing and community.\", \"options\": [\"True\", \"False\"], \"answer\": \"True\"}\n",
        "]\n",
        "\n",
        "questions_sa = [\n",
        "    {\"question\": \"1. Why were Tom's parents skeptical about the magic seeds?\", \"answer\": \"They seemed too good to be true and they had never seen anything like them before.\"},\n",
        "    {\"question\": \"2. Describe the changes in Tom's garden after planting the magic seeds.\", \"answer\": \"Tom's garden transformed with tall, lush vegetables and beautiful flowers that were brighter and sweeter than any other plants in the village.\"},\n",
        "    {\"question\": \"3. How did Tom and his family contribute to the community after their garden flourished?\", \"answer\": \"They shared the magic seeds with their neighbors and taught them how to care for the plants, bringing the community together.\"},\n",
        "    {\"question\": \"4. What inspired Tom to become a peddler when he grew up?\", \"answer\": \"He wanted to spread the joy and wonder he experienced with the magic seeds to other villages.\"},\n",
        "    {\"question\": \"5. What is the main message of the story 'The Peddler's Magic Seeds'?\", \"answer\": \"Small beginnings can lead to great changes, and the importance of sharing and community.\"}\n",
        "]\n",
        "\n",
        "vocabulary_questions = [\n",
        "    {\"question\": \"1. Quaint\", \"options\": [\"a) Cheerful and full of energy\", \"b) Attractively unusual or old-fashioned\", \"c) Dry and lacking moisture\", \"d) Very large or important\"], \"answer\": \"b) Attractively unusual or old-fashioned\"},\n",
        "    {\"question\": \"2. Skeptical\", \"options\": [\"a) Believing without question\", \"b) Doubtful or questioning\", \"c) Full of energy\", \"d) Very colorful\"], \"answer\": \"b) Doubtful or questioning\"},\n",
        "    {\"question\": \"3. Prosper\", \"options\": [\"a) To fail or decline\", \"b) To grow strong and healthy\", \"c) To stay the same\", \"d) To become less important\"], \"answer\": \"b) To grow strong and healthy\"},\n",
        "    {\"question\": \"4. Marvel\", \"options\": [\"a) To feel disappointed\", \"b) To be filled with wonder or astonishment\", \"c) To ignore completely\", \"d) To criticize harshly\"], \"answer\": \"b) To be filled with wonder or astonishment\"},\n",
        "    {\"question\": \"5. Generously\", \"options\": [\"a) In a stingy manner\", \"b) In a selfish manner\", \"c) In a kind and giving way\", \"d) In a hurried way\"], \"answer\": \"c) In a kind and giving way\"}\n",
        "]\n",
        "\n",
        "# Function to display the quiz and calculate the score\n",
        "def quiz(*answers):\n",
        "    score = 0\n",
        "    incorrect = []\n",
        "    idx = 0\n",
        "\n",
        "    # Check multiple choice questions\n",
        "    for question in questions_mc:\n",
        "        if answers[idx] == question[\"answer\"]:\n",
        "            score += 1\n",
        "        else:\n",
        "            incorrect.append(f\"MC Question {idx + 1}: Correct answer is {question['answer']}\")\n",
        "        idx += 1\n",
        "\n",
        "    # Check true/false questions\n",
        "    for question in questions_tf:\n",
        "        if answers[idx] == question[\"answer\"]:\n",
        "            score += 1\n",
        "        else:\n",
        "            incorrect.append(f\"TF Question {idx - len(questions_mc) + 1}: Correct answer is {question['answer']}\")\n",
        "        idx += 1\n",
        "\n",
        "    # Check short answer questions\n",
        "    for question in questions_sa:\n",
        "        if answers[idx].strip().lower() == question[\"answer\"].strip().lower():\n",
        "            score += 2\n",
        "        else:\n",
        "            incorrect.append(f\"SA Question {idx - len(questions_mc) - len(questions_tf) + 1}: Correct answer is {question['answer']}\")\n",
        "        idx += 1\n",
        "\n",
        "    # Check vocabulary questions\n",
        "    for question in vocabulary_questions:\n",
        "        if answers[idx] == question[\"answer\"]:\n",
        "            score += 1\n",
        "        else:\n",
        "            incorrect.append(f\"Vocab Question {idx - len(questions_mc) - len(questions_tf) - len(questions_sa) + 1}: Correct answer is {question['answer']}\")\n",
        "        idx += 1\n",
        "\n",
        "    results = \"\\n\".join(incorrect)\n",
        "    return score, results\n",
        "\n",
        "# Inputs and outputs for Gradio interface\n",
        "inputs = [gr.Textbox(label=\"Enter your name\")] + [gr.Radio(label=q[\"question\"], choices=q[\"options\"]) for q in questions_mc] + [gr.Radio(label=q[\"question\"], choices=q[\"options\"]) for q in questions_tf] + [gr.Textbox(label=q[\"question\"]) for q in questions_sa] + [gr.Radio(label=q[\"question\"], choices=q[\"options\"]) for q in vocabulary_questions]\n",
        "outputs = [gr.Textbox(label=\"Score\"), gr.Textbox(label=\"Incorrect Answers\")]\n",
        "\n",
        "iface = gr.Interface(fn=quiz, inputs=inputs, outputs=outputs, description=\"Comprehension Quiz for 'The Peddler's Magic Seeds'\")\n",
        "iface.launch(share=True)\n"
      ],
      "metadata": {
        "colab": {
          "base_uri": "https://localhost:8080/",
          "height": 613
        },
        "id": "lGjyYtxS4LyN",
        "outputId": "4e521c6b-9cf6-48d1-d068-15786c14a430"
      },
      "execution_count": 2,
      "outputs": [
        {
          "output_type": "stream",
          "name": "stdout",
          "text": [
            "Colab notebook detected. To show errors in colab notebook, set debug=True in launch()\n",
            "Running on public URL: https://d13414ba6fa63112ab.gradio.live\n",
            "\n",
            "This share link expires in 72 hours. For free permanent hosting and GPU upgrades, run `gradio deploy` from Terminal to deploy to Spaces (https://huggingface.co/spaces)\n"
          ]
        },
        {
          "output_type": "display_data",
          "data": {
            "text/plain": [
              "<IPython.core.display.HTML object>"
            ],
            "text/html": [
              "<div><iframe src=\"https://d13414ba6fa63112ab.gradio.live\" width=\"100%\" height=\"500\" allow=\"autoplay; camera; microphone; clipboard-read; clipboard-write;\" frameborder=\"0\" allowfullscreen></iframe></div>"
            ]
          },
          "metadata": {}
        },
        {
          "output_type": "execute_result",
          "data": {
            "text/plain": []
          },
          "metadata": {},
          "execution_count": 2
        }
      ]
    }
  ]
}